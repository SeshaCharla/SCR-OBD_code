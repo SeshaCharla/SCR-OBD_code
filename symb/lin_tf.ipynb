{
 "cells": [
  {
   "cell_type": "code",
   "execution_count": 7,
   "metadata": {},
   "outputs": [],
   "source": [
    "%run -i calcs.py"
   ]
  },
  {
   "cell_type": "code",
   "execution_count": 8,
   "metadata": {},
   "outputs": [
    {
     "data": {
      "text/latex": [
       "$\\displaystyle \\operatorname{Poly}{\\left( \\left(- \\bar f_{13} \\bar f_{23} \\bar g_{3} + \\bar f_{13} \\bar f_{32} \\bar g_{23}\\right) \\bar x_{3}^{2} + \\left(- \\bar f_{13} \\bar f_{23} \\bar g_{32} \\bar x_{2} + \\bar f_{13} \\bar f_{32} \\bar g_{2} \\bar x_{2} + \\bar f_{13} \\bar g_{2} \\bar g_{3} - \\bar f_{13} \\bar g_{23} \\bar g_{32} - \\bar f_{23} \\bar f_{31} \\bar g_{1} \\bar x_{1} - \\bar f_{23} \\bar g_{3} \\bar g_{1} + \\bar f_{32} \\bar g_{1} \\bar g_{23}\\right) \\bar x_{3} -  \\bar f_{23} \\bar g_{1} \\bar g_{32} \\bar x_{2} + \\bar f_{31} \\bar g_{2} \\bar g_{1} \\bar x_{1} + \\bar f_{32} \\bar g_{2} \\bar g_{1} \\bar x_{2} + \\bar g_{2} \\bar g_{3} \\bar g_{1} - \\bar g_{1} \\bar g_{23} \\bar g_{32}, \\bar x_{3}, domain=\\mathbb{Z}\\left[\\bar f_{13}, \\bar f_{23}, \\bar f_{31}, \\bar f_{32}, \\bar g_{2}, \\bar g_{3}, \\bar g_{1}, \\bar g_{23}, \\bar g_{32}, \\bar x_{1}, \\bar x_{2}\\right] \\right)}$"
      ],
      "text/plain": [
       "Poly((-\\bar f_{13}*\\bar f_{23}*\\bar g_3 + \\bar f_{13}*\\bar f_{32}*\\bar g_{23})*\\bar x_3**2 + (-\\bar f_{13}*\\bar f_{23}*\\bar g_{32}*\\bar x_2 + \\bar f_{13}*\\bar f_{32}*\\bar g_2*\\bar x_2 + \\bar f_{13}*\\bar g_2*\\bar g_3 - \\bar f_{13}*\\bar g_{23}*\\bar g_{32} - \\bar f_{23}*\\bar f_{31}*\\bar g_{1}*\\bar x_1 - \\bar f_{23}*\\bar g_3*\\bar g_{1} + \\bar f_{32}*\\bar g_{1}*\\bar g_{23})*\\bar x_3 - \\bar f_{23}*\\bar g_{1}*\\bar g_{32}*\\bar x_2 + \\bar f_{31}*\\bar g_2*\\bar g_{1}*\\bar x_1 + \\bar f_{32}*\\bar g_2*\\bar g_{1}*\\bar x_2 + \\bar g_2*\\bar g_3*\\bar g_{1} - \\bar g_{1}*\\bar g_{23}*\\bar g_{32}, \\bar x_3, domain='ZZ[\\bar f_{13},\\bar f_{23},\\bar f_{31},\\bar f_{32},\\bar g_2,\\bar g_3,\\bar g_{1},\\bar g_{23},\\bar g_{32},\\bar x_1,\\bar x_2]')"
      ]
     },
     "execution_count": 8,
     "metadata": {},
     "output_type": "execute_result"
    }
   ],
   "source": [
    "det_factor_coeffs[3].as_poly(x3)"
   ]
  },
  {
   "cell_type": "code",
   "execution_count": 14,
   "metadata": {},
   "outputs": [
    {
     "data": {
      "text/latex": [
       "$\\displaystyle \\operatorname{Poly}{\\left( \\bar k_{1} \\bar k_{4F}^{2} \\bar x_{2} \\Theta^{2}\\bar x_{3} + \\frac{\\bar F \\bar k_{4F}^{2} \\bar x_{2}}{V} \\Theta^{2} + \\frac{\\bar k_{1} \\bar k_{4F} k_{4R}}{V} \\Theta\\bar x_{3}^{2} + \\frac{- V^{3} \\bar k_{1} \\bar k_{4F}^{2} \\bar x_{2} + V^{2} \\bar k_{1} \\bar k_{3} \\bar k_{4F} + V \\bar F \\bar k_{1} \\bar k_{4F} \\bar x_{2} + \\bar F \\bar k_{4F} k_{4R}}{V^{2}} \\Theta\\bar x_{3} + \\frac{V^{2} \\bar F \\bar k_{1} \\bar k_{4F} \\bar x_{1} - V^{2} \\bar F \\bar k_{4F}^{2} \\bar x_{2} + V \\bar F \\bar k_{3} \\bar k_{4F} + \\bar F^{2} \\bar k_{4F} \\bar x_{2}}{V^{2}} \\Theta + \\left(- \\bar k_{1} \\bar k_{3} \\bar k_{4F} - \\bar k_{1} \\bar k_{4F} k_{4R}\\right) \\bar x_{3}^{2} + \\frac{- V \\bar F \\bar k_{1} \\bar k_{4F} \\bar x_{1} + \\bar F \\bar k_{1} \\bar k_{3} + \\bar F \\bar k_{1} k_{4R} - \\bar F \\bar k_{3} \\bar k_{4F} - \\bar F \\bar k_{4F} k_{4R}}{V} \\bar x_{3} + \\frac{V \\bar F^{2} \\bar k_{1} \\bar x_{1} + \\bar F^{2} \\bar k_{3} + \\bar F^{2} k_{4R}}{V^{2}}, \\Theta, \\bar x_{3}, domain=\\mathbb{Z}\\left(V, \\bar F, \\bar k_{1}, \\bar k_{3}, \\bar k_{4F}, \\bar x_{1}, \\bar x_{2}, k_{4R}\\right) \\right)}$"
      ],
      "text/plain": [
       "Poly(\\bar k_1*\\bar k_{4F}**2*\\bar x_2*\\Theta**2*\\bar x_3 + \\bar F*\\bar k_{4F}**2*\\bar x_2/V*\\Theta**2 + \\bar k_1*\\bar k_{4F}*k_{4R}/V*\\Theta*\\bar x_3**2 + (-V**3*\\bar k_1*\\bar k_{4F}**2*\\bar x_2 + V**2*\\bar k_1*\\bar k_3*\\bar k_{4F} + V*\\bar F*\\bar k_1*\\bar k_{4F}*\\bar x_2 + \\bar F*\\bar k_{4F}*k_{4R})/V**2*\\Theta*\\bar x_3 + (V**2*\\bar F*\\bar k_1*\\bar k_{4F}*\\bar x_1 - V**2*\\bar F*\\bar k_{4F}**2*\\bar x_2 + V*\\bar F*\\bar k_3*\\bar k_{4F} + \\bar F**2*\\bar k_{4F}*\\bar x_2)/V**2*\\Theta + (-\\bar k_1*\\bar k_3*\\bar k_{4F} - \\bar k_1*\\bar k_{4F}*k_{4R})*\\bar x_3**2 + (-V*\\bar F*\\bar k_1*\\bar k_{4F}*\\bar x_1 + \\bar F*\\bar k_1*\\bar k_3 + \\bar F*\\bar k_1*k_{4R} - \\bar F*\\bar k_3*\\bar k_{4F} - \\bar F*\\bar k_{4F}*k_{4R})/V*\\bar x_3 + (V*\\bar F**2*\\bar k_1*\\bar x_1 + \\bar F**2*\\bar k_3 + \\bar F**2*k_{4R})/V**2, \\Theta, \\bar x_3, domain='ZZ(V,\\bar F,\\bar k_1,\\bar k_3,\\bar k_{4F},\\bar x_1,\\bar x_2,k_{4R})')"
      ]
     },
     "execution_count": 14,
     "metadata": {},
     "output_type": "execute_result"
    }
   ],
   "source": [
    "Af = sp.Symbol(r'A_F')\n",
    "()"
   ]
  },
  {
   "cell_type": "code",
   "execution_count": null,
   "metadata": {},
   "outputs": [],
   "source": []
  }
 ],
 "metadata": {
  "kernelspec": {
   "display_name": "Python 3 (ipykernel)",
   "language": "python",
   "name": "python3"
  },
  "language_info": {
   "codemirror_mode": {
    "name": "ipython",
    "version": 3
   },
   "file_extension": ".py",
   "mimetype": "text/x-python",
   "name": "python",
   "nbconvert_exporter": "python",
   "pygments_lexer": "ipython3",
   "version": "3.10.13"
  }
 },
 "nbformat": 4,
 "nbformat_minor": 4
}
