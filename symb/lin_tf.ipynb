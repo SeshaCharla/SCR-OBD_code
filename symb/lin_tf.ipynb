{
 "cells": [
  {
   "cell_type": "code",
   "execution_count": 16,
   "metadata": {},
   "outputs": [],
   "source": [
    "import sympy as sp\n",
    "from pprint import pprint"
   ]
  },
  {
   "cell_type": "code",
   "execution_count": 17,
   "metadata": {},
   "outputs": [],
   "source": [
    "# Nominal Paramete\n",
    "f13 = sp.Symbol(r'\\bar f_{13}')\n",
    "f23 = sp.Symbol(r'\\bar f_{23}')\n",
    "f32 = sp.Symbol(r'\\bar f_{32}')\n",
    "f31 = sp.Symbol(r'\\bar f_{31}')\n",
    "f24 = sp.Symbol(r'\\bar f_{24}')\n",
    "g1 = sp.Symbol(r'\\bar g_{1}')\n",
    "g2 = sp.Symbol(r'\\bar g_2')\n",
    "g3 = sp.Symbol(r'\\bar g_3')\n",
    "g23 = sp.Symbol(r'\\bar g_{23}')\n",
    "g32 = sp.Symbol(r'\\bar g_{32}')\n",
    "g4 = sp.Symbol(r'g_4')\n",
    "b11 = sp.Symbol(r'\\bar b_{11}')\n",
    "b42 = sp.Symbol(r'\\bar b_{42}')"
   ]
  },
  {
   "cell_type": "code",
   "execution_count": 18,
   "metadata": {},
   "outputs": [],
   "source": [
    "# Perturbation parameters\n",
    "df13 = sp.Symbol(r'\\delta f_{13}')\n",
    "df23 = sp.Symbol(r'\\delta f_{23}')\n",
    "df32 = sp.Symbol(r'\\delta f_{32}')\n",
    "df31 = sp.Symbol(r'\\delta f_{31}')\n",
    "df24 = sp.Symbol(r'\\delta f_{24}')\n",
    "dg1 = sp.Symbol(r'\\delta g_{1}')\n",
    "dg2F = sp.Symbol(r'\\delta g_{2_F}')\n",
    "dg2T = sp.Symbol(r'\\delta g_{2_T}')\n",
    "dg3 = sp.Symbol(r'\\delta g_3')\n",
    "dg23 = sp.Symbol(r'\\delta g_{23}')\n",
    "dg32 = sp.Symbol(r'\\delta g_{32}')\n",
    "db11 = sp.Symbol(r'delta b_{11}')\n",
    "db42 = sp.Symbol(r'delta b_{42}')"
   ]
  },
  {
   "cell_type": "code",
   "execution_count": 19,
   "metadata": {},
   "outputs": [],
   "source": [
    "# Nominal states\n",
    "x1 = sp.Symbol(r'\\bar x_1')\n",
    "x2 = sp.Symbol(r'\\bar x_2')\n",
    "x3 = sp.Symbol(r'\\bar x_3')"
   ]
  },
  {
   "cell_type": "code",
   "execution_count": 20,
   "metadata": {},
   "outputs": [
    {
     "data": {
      "text/latex": [
       "$\\displaystyle \\left[\\begin{matrix}- \\bar f_{13} \\bar x_{3} - \\bar g_{1} & 0 & - \\bar f_{13} \\bar x_{1} & 0\\\\0 & \\bar f_{23} \\bar x_{3} - \\bar g_{2} & \\bar f_{23} \\bar x_{2} + \\bar g_{23} & \\bar f_{24}\\\\- \\bar f_{31} \\bar x_{3} & - \\bar f_{32} \\bar x_{3} + \\bar g_{32} & - \\bar f_{31} \\bar x_{1} - \\bar f_{32} \\bar x_{2} - \\bar g_{3} & 0\\\\0 & 0 & 0 & - g_{4}\\end{matrix}\\right]$"
      ],
      "text/plain": [
       "Matrix([\n",
       "[-\\bar f_{13}*\\bar x_3 - \\bar g_{1},                                   0,                                   -\\bar f_{13}*\\bar x_1,           0],\n",
       "[                                 0,     \\bar f_{23}*\\bar x_3 - \\bar g_2,                      \\bar f_{23}*\\bar x_2 + \\bar g_{23}, \\bar f_{24}],\n",
       "[             -\\bar f_{31}*\\bar x_3, -\\bar f_{32}*\\bar x_3 + \\bar g_{32}, -\\bar f_{31}*\\bar x_1 - \\bar f_{32}*\\bar x_2 - \\bar g_3,           0],\n",
       "[                                 0,                                   0,                                                       0,        -g_4]])"
      ]
     },
     "execution_count": 20,
     "metadata": {},
     "output_type": "execute_result"
    }
   ],
   "source": [
    "# A matrix\n",
    "A = sp.Matrix([[ -(f13 * x3 + g1), 0, -f13*x1, 0],\n",
    "               [ 0,  (-g2 + f23*x3), (f23*x2 + g23), f24],\n",
    "               [-f31*x3, (-f32*x3 + g32), (-f32*x2 - g3 - f31*x1), 0],\n",
    "               [0, 0, 0, -g4]])\n",
    "A"
   ]
  },
  {
   "cell_type": "code",
   "execution_count": 21,
   "metadata": {},
   "outputs": [
    {
     "data": {
      "text/latex": [
       "$\\displaystyle \\left[\\begin{matrix}\\bar f_{13} \\bar x_{3} + \\bar g_{1} + s & 0 & \\bar f_{13} \\bar x_{1} & 0\\\\0 & - \\bar f_{23} \\bar x_{3} + \\bar g_{2} + s & - \\bar f_{23} \\bar x_{2} - \\bar g_{23} & - \\bar f_{24}\\\\\\bar f_{31} \\bar x_{3} & \\bar f_{32} \\bar x_{3} - \\bar g_{32} & \\bar f_{31} \\bar x_{1} + \\bar f_{32} \\bar x_{2} + \\bar g_{3} + s & 0\\\\0 & 0 & 0 & g_{4} + s\\end{matrix}\\right]$"
      ],
      "text/plain": [
       "Matrix([\n",
       "[\\bar f_{13}*\\bar x_3 + \\bar g_{1} + s,                                    0,                                       \\bar f_{13}*\\bar x_1,            0],\n",
       "[                                    0, -\\bar f_{23}*\\bar x_3 + \\bar g_2 + s,                        -\\bar f_{23}*\\bar x_2 - \\bar g_{23}, -\\bar f_{24}],\n",
       "[                 \\bar f_{31}*\\bar x_3,   \\bar f_{32}*\\bar x_3 - \\bar g_{32}, \\bar f_{31}*\\bar x_1 + \\bar f_{32}*\\bar x_2 + \\bar g_3 + s,            0],\n",
       "[                                    0,                                    0,                                                          0,      g_4 + s]])"
      ]
     },
     "execution_count": 21,
     "metadata": {},
     "output_type": "execute_result"
    }
   ],
   "source": [
    "# (sI - A) matrix\n",
    "s = sp.Symbol(r's')\n",
    "sIA = (s*sp.eye(4) - A)\n",
    "sIA"
   ]
  },
  {
   "cell_type": "code",
   "execution_count": 24,
   "metadata": {},
   "outputs": [
    {
     "data": {
      "text/latex": [
       "$\\displaystyle \\operatorname{Poly}{\\left( s^{4} + \\left(\\bar f_{13} \\bar x_{3} - \\bar f_{23} \\bar x_{3} + \\bar f_{31} \\bar x_{1} + \\bar f_{32} \\bar x_{2} + \\bar g_{2} + \\bar g_{3} + \\bar g_{1} + g_{4}\\right) s^{3} + \\left(- \\bar f_{13} \\bar f_{23} \\bar x_{3}^{2} + \\bar f_{13} \\bar f_{32} \\bar x_{2} \\bar x_{3} + \\bar f_{13} \\bar g_{2} \\bar x_{3} + \\bar f_{13} \\bar g_{3} \\bar x_{3} + \\bar f_{13} \\bar x_{3} g_{4} - \\bar f_{23} \\bar f_{31} \\bar x_{1} \\bar x_{3} - \\bar f_{23} \\bar g_{3} \\bar x_{3} - \\bar f_{23} \\bar g_{1} \\bar x_{3} - \\bar f_{23} \\bar g_{32} \\bar x_{2} - \\bar f_{23} \\bar x_{3} g_{4} + \\bar f_{31} \\bar g_{2} \\bar x_{1} + \\bar f_{31} \\bar g_{1} \\bar x_{1} + \\bar f_{31} \\bar x_{1} g_{4} + \\bar f_{32} \\bar g_{2} \\bar x_{2} + \\bar f_{32} \\bar g_{1} \\bar x_{2} + \\bar f_{32} \\bar g_{23} \\bar x_{3} + \\bar f_{32} \\bar x_{2} g_{4} + \\bar g_{2} \\bar g_{3} + \\bar g_{2} \\bar g_{1} + \\bar g_{2} g_{4} + \\bar g_{3} \\bar g_{1} + \\bar g_{3} g_{4} + \\bar g_{1} g_{4} - \\bar g_{23} \\bar g_{32}\\right) s^{2} + \\left(- \\bar f_{13} \\bar f_{23} \\bar g_{3} \\bar x_{3}^{2} - \\bar f_{13} \\bar f_{23} \\bar g_{32} \\bar x_{2} \\bar x_{3} - \\bar f_{13} \\bar f_{23} \\bar x_{3}^{2} g_{4} + \\bar f_{13} \\bar f_{32} \\bar g_{2} \\bar x_{2} \\bar x_{3} + \\bar f_{13} \\bar f_{32} \\bar g_{23} \\bar x_{3}^{2} + \\bar f_{13} \\bar f_{32} \\bar x_{2} \\bar x_{3} g_{4} + \\bar f_{13} \\bar g_{2} \\bar g_{3} \\bar x_{3} + \\bar f_{13} \\bar g_{2} \\bar x_{3} g_{4} + \\bar f_{13} \\bar g_{3} \\bar x_{3} g_{4} - \\bar f_{13} \\bar g_{23} \\bar g_{32} \\bar x_{3} - \\bar f_{23} \\bar f_{31} \\bar g_{1} \\bar x_{1} \\bar x_{3} - \\bar f_{23} \\bar f_{31} \\bar x_{1} \\bar x_{3} g_{4} - \\bar f_{23} \\bar g_{3} \\bar g_{1} \\bar x_{3} - \\bar f_{23} \\bar g_{3} \\bar x_{3} g_{4} - \\bar f_{23} \\bar g_{1} \\bar g_{32} \\bar x_{2} - \\bar f_{23} \\bar g_{1} \\bar x_{3} g_{4} - \\bar f_{23} \\bar g_{32} \\bar x_{2} g_{4} + \\bar f_{31} \\bar g_{2} \\bar g_{1} \\bar x_{1} + \\bar f_{31} \\bar g_{2} \\bar x_{1} g_{4} + \\bar f_{31} \\bar g_{1} \\bar x_{1} g_{4} + \\bar f_{32} \\bar g_{2} \\bar g_{1} \\bar x_{2} + \\bar f_{32} \\bar g_{2} \\bar x_{2} g_{4} + \\bar f_{32} \\bar g_{1} \\bar g_{23} \\bar x_{3} + \\bar f_{32} \\bar g_{1} \\bar x_{2} g_{4} + \\bar f_{32} \\bar g_{23} \\bar x_{3} g_{4} + \\bar g_{2} \\bar g_{3} \\bar g_{1} + \\bar g_{2} \\bar g_{3} g_{4} + \\bar g_{2} \\bar g_{1} g_{4} + \\bar g_{3} \\bar g_{1} g_{4} - \\bar g_{1} \\bar g_{23} \\bar g_{32} - \\bar g_{23} \\bar g_{32} g_{4}\\right) s -  \\bar f_{13} \\bar f_{23} \\bar g_{3} \\bar x_{3}^{2} g_{4} - \\bar f_{13} \\bar f_{23} \\bar g_{32} \\bar x_{2} \\bar x_{3} g_{4} + \\bar f_{13} \\bar f_{32} \\bar g_{2} \\bar x_{2} \\bar x_{3} g_{4} + \\bar f_{13} \\bar f_{32} \\bar g_{23} \\bar x_{3}^{2} g_{4} + \\bar f_{13} \\bar g_{2} \\bar g_{3} \\bar x_{3} g_{4} - \\bar f_{13} \\bar g_{23} \\bar g_{32} \\bar x_{3} g_{4} - \\bar f_{23} \\bar f_{31} \\bar g_{1} \\bar x_{1} \\bar x_{3} g_{4} - \\bar f_{23} \\bar g_{3} \\bar g_{1} \\bar x_{3} g_{4} - \\bar f_{23} \\bar g_{1} \\bar g_{32} \\bar x_{2} g_{4} + \\bar f_{31} \\bar g_{2} \\bar g_{1} \\bar x_{1} g_{4} + \\bar f_{32} \\bar g_{2} \\bar g_{1} \\bar x_{2} g_{4} + \\bar f_{32} \\bar g_{1} \\bar g_{23} \\bar x_{3} g_{4} + \\bar g_{2} \\bar g_{3} \\bar g_{1} g_{4} - \\bar g_{1} \\bar g_{23} \\bar g_{32} g_{4}, s, domain=\\mathbb{Z}\\left[\\bar f_{13}, \\bar f_{23}, \\bar f_{31}, \\bar f_{32}, \\bar g_{2}, \\bar g_{3}, \\bar g_{1}, \\bar g_{23}, \\bar g_{32}, \\bar x_{1}, \\bar x_{2}, \\bar x_{3}, g_{4}\\right] \\right)}$"
      ],
      "text/plain": [
       "Poly(s**4 + (\\bar f_{13}*\\bar x_3 - \\bar f_{23}*\\bar x_3 + \\bar f_{31}*\\bar x_1 + \\bar f_{32}*\\bar x_2 + \\bar g_2 + \\bar g_3 + \\bar g_{1} + g_4)*s**3 + (-\\bar f_{13}*\\bar f_{23}*\\bar x_3**2 + \\bar f_{13}*\\bar f_{32}*\\bar x_2*\\bar x_3 + \\bar f_{13}*\\bar g_2*\\bar x_3 + \\bar f_{13}*\\bar g_3*\\bar x_3 + \\bar f_{13}*\\bar x_3*g_4 - \\bar f_{23}*\\bar f_{31}*\\bar x_1*\\bar x_3 - \\bar f_{23}*\\bar g_3*\\bar x_3 - \\bar f_{23}*\\bar g_{1}*\\bar x_3 - \\bar f_{23}*\\bar g_{32}*\\bar x_2 - \\bar f_{23}*\\bar x_3*g_4 + \\bar f_{31}*\\bar g_2*\\bar x_1 + \\bar f_{31}*\\bar g_{1}*\\bar x_1 + \\bar f_{31}*\\bar x_1*g_4 + \\bar f_{32}*\\bar g_2*\\bar x_2 + \\bar f_{32}*\\bar g_{1}*\\bar x_2 + \\bar f_{32}*\\bar g_{23}*\\bar x_3 + \\bar f_{32}*\\bar x_2*g_4 + \\bar g_2*\\bar g_3 + \\bar g_2*\\bar g_{1} + \\bar g_2*g_4 + \\bar g_3*\\bar g_{1} + \\bar g_3*g_4 + \\bar g_{1}*g_4 - \\bar g_{23}*\\bar g_{32})*s**2 + (-\\bar f_{13}*\\bar f_{23}*\\bar g_3*\\bar x_3**2 - \\bar f_{13}*\\bar f_{23}*\\bar g_{32}*\\bar x_2*\\bar x_3 - \\bar f_{13}*\\bar f_{23}*\\bar x_3**2*g_4 + \\bar f_{13}*\\bar f_{32}*\\bar g_2*\\bar x_2*\\bar x_3 + \\bar f_{13}*\\bar f_{32}*\\bar g_{23}*\\bar x_3**2 + \\bar f_{13}*\\bar f_{32}*\\bar x_2*\\bar x_3*g_4 + \\bar f_{13}*\\bar g_2*\\bar g_3*\\bar x_3 + \\bar f_{13}*\\bar g_2*\\bar x_3*g_4 + \\bar f_{13}*\\bar g_3*\\bar x_3*g_4 - \\bar f_{13}*\\bar g_{23}*\\bar g_{32}*\\bar x_3 - \\bar f_{23}*\\bar f_{31}*\\bar g_{1}*\\bar x_1*\\bar x_3 - \\bar f_{23}*\\bar f_{31}*\\bar x_1*\\bar x_3*g_4 - \\bar f_{23}*\\bar g_3*\\bar g_{1}*\\bar x_3 - \\bar f_{23}*\\bar g_3*\\bar x_3*g_4 - \\bar f_{23}*\\bar g_{1}*\\bar g_{32}*\\bar x_2 - \\bar f_{23}*\\bar g_{1}*\\bar x_3*g_4 - \\bar f_{23}*\\bar g_{32}*\\bar x_2*g_4 + \\bar f_{31}*\\bar g_2*\\bar g_{1}*\\bar x_1 + \\bar f_{31}*\\bar g_2*\\bar x_1*g_4 + \\bar f_{31}*\\bar g_{1}*\\bar x_1*g_4 + \\bar f_{32}*\\bar g_2*\\bar g_{1}*\\bar x_2 + \\bar f_{32}*\\bar g_2*\\bar x_2*g_4 + \\bar f_{32}*\\bar g_{1}*\\bar g_{23}*\\bar x_3 + \\bar f_{32}*\\bar g_{1}*\\bar x_2*g_4 + \\bar f_{32}*\\bar g_{23}*\\bar x_3*g_4 + \\bar g_2*\\bar g_3*\\bar g_{1} + \\bar g_2*\\bar g_3*g_4 + \\bar g_2*\\bar g_{1}*g_4 + \\bar g_3*\\bar g_{1}*g_4 - \\bar g_{1}*\\bar g_{23}*\\bar g_{32} - \\bar g_{23}*\\bar g_{32}*g_4)*s - \\bar f_{13}*\\bar f_{23}*\\bar g_3*\\bar x_3**2*g_4 - \\bar f_{13}*\\bar f_{23}*\\bar g_{32}*\\bar x_2*\\bar x_3*g_4 + \\bar f_{13}*\\bar f_{32}*\\bar g_2*\\bar x_2*\\bar x_3*g_4 + \\bar f_{13}*\\bar f_{32}*\\bar g_{23}*\\bar x_3**2*g_4 + \\bar f_{13}*\\bar g_2*\\bar g_3*\\bar x_3*g_4 - \\bar f_{13}*\\bar g_{23}*\\bar g_{32}*\\bar x_3*g_4 - \\bar f_{23}*\\bar f_{31}*\\bar g_{1}*\\bar x_1*\\bar x_3*g_4 - \\bar f_{23}*\\bar g_3*\\bar g_{1}*\\bar x_3*g_4 - \\bar f_{23}*\\bar g_{1}*\\bar g_{32}*\\bar x_2*g_4 + \\bar f_{31}*\\bar g_2*\\bar g_{1}*\\bar x_1*g_4 + \\bar f_{32}*\\bar g_2*\\bar g_{1}*\\bar x_2*g_4 + \\bar f_{32}*\\bar g_{1}*\\bar g_{23}*\\bar x_3*g_4 + \\bar g_2*\\bar g_3*\\bar g_{1}*g_4 - \\bar g_{1}*\\bar g_{23}*\\bar g_{32}*g_4, s, domain='ZZ[\\bar f_{13},\\bar f_{23},\\bar f_{31},\\bar f_{32},\\bar g_2,\\bar g_3,\\bar g_{1},\\bar g_{23},\\bar g_{32},\\bar x_1,\\bar x_2,\\bar x_3,g_4]')"
      ]
     },
     "execution_count": 24,
     "metadata": {},
     "output_type": "execute_result"
    }
   ],
   "source": [
    "# det(sI - A)\n",
    "det_sIA = sp.collect(sp.expand(sIA.det()), s)\n",
    "det_expr = sp.Poly(det_sIA, s)\n",
    "det_coeffs = det_expr.coeffs()\n",
    "det_expr"
   ]
  },
  {
   "cell_type": "code",
   "execution_count": null,
   "metadata": {},
   "outputs": [],
   "source": []
  }
 ],
 "metadata": {
  "kernelspec": {
   "display_name": "Python 3 (ipykernel)",
   "language": "python",
   "name": "python3"
  },
  "language_info": {
   "codemirror_mode": {
    "name": "ipython",
    "version": 3
   },
   "file_extension": ".py",
   "mimetype": "text/x-python",
   "name": "python",
   "nbconvert_exporter": "python",
   "pygments_lexer": "ipython3",
   "version": "3.11.7"
  }
 },
 "nbformat": 4,
 "nbformat_minor": 4
}
