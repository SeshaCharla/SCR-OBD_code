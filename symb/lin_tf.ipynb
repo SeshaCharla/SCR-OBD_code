{
 "cells": [
  {
   "cell_type": "code",
   "execution_count": 1,
   "metadata": {},
   "outputs": [],
   "source": [
    "from symb import *"
   ]
  },
  {
   "cell_type": "code",
   "execution_count": 2,
   "metadata": {},
   "outputs": [
    {
     "data": {
      "text/latex": [
       "$\\displaystyle \\left[\\begin{matrix}- \\bar f_{13} \\bar x_{3} - \\bar g_{1} & 0 & - \\bar f_{13} \\bar x_{1} & 0\\\\0 & \\bar f_{23} \\bar x_{3} - \\bar g_{2} & \\bar f_{23} \\bar x_{2} + \\bar g_{23} & \\bar f_{24}\\\\- \\bar f_{31} \\bar x_{3} & - \\bar f_{32} \\bar x_{3} + \\bar g_{32} & - \\bar f_{31} \\bar x_{1} - \\bar f_{32} \\bar x_{2} - \\bar g_{3} & 0\\\\0 & 0 & 0 & - g_{4}\\end{matrix}\\right]$"
      ],
      "text/plain": [
       "Matrix([\n",
       "[-\\bar f_{13}*\\bar x_3 - \\bar g_{1},                                   0,                                   -\\bar f_{13}*\\bar x_1,           0],\n",
       "[                                 0,     \\bar f_{23}*\\bar x_3 - \\bar g_2,                      \\bar f_{23}*\\bar x_2 + \\bar g_{23}, \\bar f_{24}],\n",
       "[             -\\bar f_{31}*\\bar x_3, -\\bar f_{32}*\\bar x_3 + \\bar g_{32}, -\\bar f_{31}*\\bar x_1 - \\bar f_{32}*\\bar x_2 - \\bar g_3,           0],\n",
       "[                                 0,                                   0,                                                       0,        -g_4]])"
      ]
     },
     "execution_count": 2,
     "metadata": {},
     "output_type": "execute_result"
    }
   ],
   "source": [
    "# A matrix\n",
    "A = sp.Matrix([[ -(f13 * x3 + g1), 0, -f13*x1, 0],\n",
    "               [ 0,  (-g2 + f23*x3), (f23*x2 + g23), f24],\n",
    "               [-f31*x3, (-f32*x3 + g32), (-f32*x2 - g3 - f31*x1), 0],\n",
    "               [0, 0, 0, -g4]])\n",
    "A"
   ]
  },
  {
   "cell_type": "code",
   "execution_count": 3,
   "metadata": {},
   "outputs": [
    {
     "data": {
      "text/latex": [
       "$\\displaystyle \\left[\\begin{matrix}\\bar f_{13} \\bar x_{3} + \\bar g_{1} + s & 0 & \\bar f_{13} \\bar x_{1} & 0\\\\0 & - \\bar f_{23} \\bar x_{3} + \\bar g_{2} + s & - \\bar f_{23} \\bar x_{2} - \\bar g_{23} & - \\bar f_{24}\\\\\\bar f_{31} \\bar x_{3} & \\bar f_{32} \\bar x_{3} - \\bar g_{32} & \\bar f_{31} \\bar x_{1} + \\bar f_{32} \\bar x_{2} + \\bar g_{3} + s & 0\\\\0 & 0 & 0 & g_{4} + s\\end{matrix}\\right]$"
      ],
      "text/plain": [
       "Matrix([\n",
       "[\\bar f_{13}*\\bar x_3 + \\bar g_{1} + s,                                    0,                                       \\bar f_{13}*\\bar x_1,            0],\n",
       "[                                    0, -\\bar f_{23}*\\bar x_3 + \\bar g_2 + s,                        -\\bar f_{23}*\\bar x_2 - \\bar g_{23}, -\\bar f_{24}],\n",
       "[                 \\bar f_{31}*\\bar x_3,   \\bar f_{32}*\\bar x_3 - \\bar g_{32}, \\bar f_{31}*\\bar x_1 + \\bar f_{32}*\\bar x_2 + \\bar g_3 + s,            0],\n",
       "[                                    0,                                    0,                                                          0,      g_4 + s]])"
      ]
     },
     "execution_count": 3,
     "metadata": {},
     "output_type": "execute_result"
    }
   ],
   "source": [
    "# (sI - A) matrix\n",
    "s = sp.Symbol(r's')\n",
    "sIA = (s*sp.eye(4) - A)\n",
    "sIA"
   ]
  },
  {
   "cell_type": "code",
   "execution_count": 4,
   "metadata": {},
   "outputs": [
    {
     "data": {
      "text/latex": [
       "$\\displaystyle \\operatorname{Poly}{\\left( s^{4} + \\left(\\bar f_{13} \\bar x_{3} - \\bar f_{23} \\bar x_{3} + \\bar f_{31} \\bar x_{1} + \\bar f_{32} \\bar x_{2} + \\bar g_{2} + \\bar g_{3} + \\bar g_{1} + g_{4}\\right) s^{3} + \\left(- \\bar f_{13} \\bar f_{23} \\bar x_{3}^{2} + \\bar f_{13} \\bar f_{32} \\bar x_{2} \\bar x_{3} + \\bar f_{13} \\bar g_{2} \\bar x_{3} + \\bar f_{13} \\bar g_{3} \\bar x_{3} + \\bar f_{13} \\bar x_{3} g_{4} - \\bar f_{23} \\bar f_{31} \\bar x_{1} \\bar x_{3} - \\bar f_{23} \\bar g_{3} \\bar x_{3} - \\bar f_{23} \\bar g_{1} \\bar x_{3} - \\bar f_{23} \\bar g_{32} \\bar x_{2} - \\bar f_{23} \\bar x_{3} g_{4} + \\bar f_{31} \\bar g_{2} \\bar x_{1} + \\bar f_{31} \\bar g_{1} \\bar x_{1} + \\bar f_{31} \\bar x_{1} g_{4} + \\bar f_{32} \\bar g_{2} \\bar x_{2} + \\bar f_{32} \\bar g_{1} \\bar x_{2} + \\bar f_{32} \\bar g_{23} \\bar x_{3} + \\bar f_{32} \\bar x_{2} g_{4} + \\bar g_{2} \\bar g_{3} + \\bar g_{2} \\bar g_{1} + \\bar g_{2} g_{4} + \\bar g_{3} \\bar g_{1} + \\bar g_{3} g_{4} + \\bar g_{1} g_{4} - \\bar g_{23} \\bar g_{32}\\right) s^{2} + \\left(- \\bar f_{13} \\bar f_{23} \\bar g_{3} \\bar x_{3}^{2} - \\bar f_{13} \\bar f_{23} \\bar g_{32} \\bar x_{2} \\bar x_{3} - \\bar f_{13} \\bar f_{23} \\bar x_{3}^{2} g_{4} + \\bar f_{13} \\bar f_{32} \\bar g_{2} \\bar x_{2} \\bar x_{3} + \\bar f_{13} \\bar f_{32} \\bar g_{23} \\bar x_{3}^{2} + \\bar f_{13} \\bar f_{32} \\bar x_{2} \\bar x_{3} g_{4} + \\bar f_{13} \\bar g_{2} \\bar g_{3} \\bar x_{3} + \\bar f_{13} \\bar g_{2} \\bar x_{3} g_{4} + \\bar f_{13} \\bar g_{3} \\bar x_{3} g_{4} - \\bar f_{13} \\bar g_{23} \\bar g_{32} \\bar x_{3} - \\bar f_{23} \\bar f_{31} \\bar g_{1} \\bar x_{1} \\bar x_{3} - \\bar f_{23} \\bar f_{31} \\bar x_{1} \\bar x_{3} g_{4} - \\bar f_{23} \\bar g_{3} \\bar g_{1} \\bar x_{3} - \\bar f_{23} \\bar g_{3} \\bar x_{3} g_{4} - \\bar f_{23} \\bar g_{1} \\bar g_{32} \\bar x_{2} - \\bar f_{23} \\bar g_{1} \\bar x_{3} g_{4} - \\bar f_{23} \\bar g_{32} \\bar x_{2} g_{4} + \\bar f_{31} \\bar g_{2} \\bar g_{1} \\bar x_{1} + \\bar f_{31} \\bar g_{2} \\bar x_{1} g_{4} + \\bar f_{31} \\bar g_{1} \\bar x_{1} g_{4} + \\bar f_{32} \\bar g_{2} \\bar g_{1} \\bar x_{2} + \\bar f_{32} \\bar g_{2} \\bar x_{2} g_{4} + \\bar f_{32} \\bar g_{1} \\bar g_{23} \\bar x_{3} + \\bar f_{32} \\bar g_{1} \\bar x_{2} g_{4} + \\bar f_{32} \\bar g_{23} \\bar x_{3} g_{4} + \\bar g_{2} \\bar g_{3} \\bar g_{1} + \\bar g_{2} \\bar g_{3} g_{4} + \\bar g_{2} \\bar g_{1} g_{4} + \\bar g_{3} \\bar g_{1} g_{4} - \\bar g_{1} \\bar g_{23} \\bar g_{32} - \\bar g_{23} \\bar g_{32} g_{4}\\right) s -  \\bar f_{13} \\bar f_{23} \\bar g_{3} \\bar x_{3}^{2} g_{4} - \\bar f_{13} \\bar f_{23} \\bar g_{32} \\bar x_{2} \\bar x_{3} g_{4} + \\bar f_{13} \\bar f_{32} \\bar g_{2} \\bar x_{2} \\bar x_{3} g_{4} + \\bar f_{13} \\bar f_{32} \\bar g_{23} \\bar x_{3}^{2} g_{4} + \\bar f_{13} \\bar g_{2} \\bar g_{3} \\bar x_{3} g_{4} - \\bar f_{13} \\bar g_{23} \\bar g_{32} \\bar x_{3} g_{4} - \\bar f_{23} \\bar f_{31} \\bar g_{1} \\bar x_{1} \\bar x_{3} g_{4} - \\bar f_{23} \\bar g_{3} \\bar g_{1} \\bar x_{3} g_{4} - \\bar f_{23} \\bar g_{1} \\bar g_{32} \\bar x_{2} g_{4} + \\bar f_{31} \\bar g_{2} \\bar g_{1} \\bar x_{1} g_{4} + \\bar f_{32} \\bar g_{2} \\bar g_{1} \\bar x_{2} g_{4} + \\bar f_{32} \\bar g_{1} \\bar g_{23} \\bar x_{3} g_{4} + \\bar g_{2} \\bar g_{3} \\bar g_{1} g_{4} - \\bar g_{1} \\bar g_{23} \\bar g_{32} g_{4}, s, domain=\\mathbb{Z}\\left[\\bar f_{13}, \\bar f_{23}, \\bar f_{31}, \\bar f_{32}, \\bar g_{2}, \\bar g_{3}, \\bar g_{1}, \\bar g_{23}, \\bar g_{32}, \\bar x_{1}, \\bar x_{2}, \\bar x_{3}, g_{4}\\right] \\right)}$"
      ],
      "text/plain": [
       "Poly(s**4 + (\\bar f_{13}*\\bar x_3 - \\bar f_{23}*\\bar x_3 + \\bar f_{31}*\\bar x_1 + \\bar f_{32}*\\bar x_2 + \\bar g_2 + \\bar g_3 + \\bar g_{1} + g_4)*s**3 + (-\\bar f_{13}*\\bar f_{23}*\\bar x_3**2 + \\bar f_{13}*\\bar f_{32}*\\bar x_2*\\bar x_3 + \\bar f_{13}*\\bar g_2*\\bar x_3 + \\bar f_{13}*\\bar g_3*\\bar x_3 + \\bar f_{13}*\\bar x_3*g_4 - \\bar f_{23}*\\bar f_{31}*\\bar x_1*\\bar x_3 - \\bar f_{23}*\\bar g_3*\\bar x_3 - \\bar f_{23}*\\bar g_{1}*\\bar x_3 - \\bar f_{23}*\\bar g_{32}*\\bar x_2 - \\bar f_{23}*\\bar x_3*g_4 + \\bar f_{31}*\\bar g_2*\\bar x_1 + \\bar f_{31}*\\bar g_{1}*\\bar x_1 + \\bar f_{31}*\\bar x_1*g_4 + \\bar f_{32}*\\bar g_2*\\bar x_2 + \\bar f_{32}*\\bar g_{1}*\\bar x_2 + \\bar f_{32}*\\bar g_{23}*\\bar x_3 + \\bar f_{32}*\\bar x_2*g_4 + \\bar g_2*\\bar g_3 + \\bar g_2*\\bar g_{1} + \\bar g_2*g_4 + \\bar g_3*\\bar g_{1} + \\bar g_3*g_4 + \\bar g_{1}*g_4 - \\bar g_{23}*\\bar g_{32})*s**2 + (-\\bar f_{13}*\\bar f_{23}*\\bar g_3*\\bar x_3**2 - \\bar f_{13}*\\bar f_{23}*\\bar g_{32}*\\bar x_2*\\bar x_3 - \\bar f_{13}*\\bar f_{23}*\\bar x_3**2*g_4 + \\bar f_{13}*\\bar f_{32}*\\bar g_2*\\bar x_2*\\bar x_3 + \\bar f_{13}*\\bar f_{32}*\\bar g_{23}*\\bar x_3**2 + \\bar f_{13}*\\bar f_{32}*\\bar x_2*\\bar x_3*g_4 + \\bar f_{13}*\\bar g_2*\\bar g_3*\\bar x_3 + \\bar f_{13}*\\bar g_2*\\bar x_3*g_4 + \\bar f_{13}*\\bar g_3*\\bar x_3*g_4 - \\bar f_{13}*\\bar g_{23}*\\bar g_{32}*\\bar x_3 - \\bar f_{23}*\\bar f_{31}*\\bar g_{1}*\\bar x_1*\\bar x_3 - \\bar f_{23}*\\bar f_{31}*\\bar x_1*\\bar x_3*g_4 - \\bar f_{23}*\\bar g_3*\\bar g_{1}*\\bar x_3 - \\bar f_{23}*\\bar g_3*\\bar x_3*g_4 - \\bar f_{23}*\\bar g_{1}*\\bar g_{32}*\\bar x_2 - \\bar f_{23}*\\bar g_{1}*\\bar x_3*g_4 - \\bar f_{23}*\\bar g_{32}*\\bar x_2*g_4 + \\bar f_{31}*\\bar g_2*\\bar g_{1}*\\bar x_1 + \\bar f_{31}*\\bar g_2*\\bar x_1*g_4 + \\bar f_{31}*\\bar g_{1}*\\bar x_1*g_4 + \\bar f_{32}*\\bar g_2*\\bar g_{1}*\\bar x_2 + \\bar f_{32}*\\bar g_2*\\bar x_2*g_4 + \\bar f_{32}*\\bar g_{1}*\\bar g_{23}*\\bar x_3 + \\bar f_{32}*\\bar g_{1}*\\bar x_2*g_4 + \\bar f_{32}*\\bar g_{23}*\\bar x_3*g_4 + \\bar g_2*\\bar g_3*\\bar g_{1} + \\bar g_2*\\bar g_3*g_4 + \\bar g_2*\\bar g_{1}*g_4 + \\bar g_3*\\bar g_{1}*g_4 - \\bar g_{1}*\\bar g_{23}*\\bar g_{32} - \\bar g_{23}*\\bar g_{32}*g_4)*s - \\bar f_{13}*\\bar f_{23}*\\bar g_3*\\bar x_3**2*g_4 - \\bar f_{13}*\\bar f_{23}*\\bar g_{32}*\\bar x_2*\\bar x_3*g_4 + \\bar f_{13}*\\bar f_{32}*\\bar g_2*\\bar x_2*\\bar x_3*g_4 + \\bar f_{13}*\\bar f_{32}*\\bar g_{23}*\\bar x_3**2*g_4 + \\bar f_{13}*\\bar g_2*\\bar g_3*\\bar x_3*g_4 - \\bar f_{13}*\\bar g_{23}*\\bar g_{32}*\\bar x_3*g_4 - \\bar f_{23}*\\bar f_{31}*\\bar g_{1}*\\bar x_1*\\bar x_3*g_4 - \\bar f_{23}*\\bar g_3*\\bar g_{1}*\\bar x_3*g_4 - \\bar f_{23}*\\bar g_{1}*\\bar g_{32}*\\bar x_2*g_4 + \\bar f_{31}*\\bar g_2*\\bar g_{1}*\\bar x_1*g_4 + \\bar f_{32}*\\bar g_2*\\bar g_{1}*\\bar x_2*g_4 + \\bar f_{32}*\\bar g_{1}*\\bar g_{23}*\\bar x_3*g_4 + \\bar g_2*\\bar g_3*\\bar g_{1}*g_4 - \\bar g_{1}*\\bar g_{23}*\\bar g_{32}*g_4, s, domain='ZZ[\\bar f_{13},\\bar f_{23},\\bar f_{31},\\bar f_{32},\\bar g_2,\\bar g_3,\\bar g_{1},\\bar g_{23},\\bar g_{32},\\bar x_1,\\bar x_2,\\bar x_3,g_4]')"
      ]
     },
     "execution_count": 4,
     "metadata": {},
     "output_type": "execute_result"
    }
   ],
   "source": [
    "# det(sI - A)\n",
    "det_sIA = sp.collect(sp.expand(sIA.det()), s)\n",
    "det_expr = sp.Poly(det_sIA, s)\n",
    "det_coeffs = det_expr.coeffs()\n",
    "det_expr"
   ]
  },
  {
   "cell_type": "code",
   "execution_count": 7,
   "metadata": {},
   "outputs": [
    {
     "data": {
      "text/latex": [
       "$\\displaystyle - \\Theta \\bar f_{23} \\bar g_{3} \\bar x_{3}^{2} - \\Theta \\bar f_{23} \\bar g_{32} \\bar x_{2} \\bar x_{3} - \\Theta \\bar f_{23} \\bar x_{3}^{2} g_{4} + \\Theta \\bar f_{32} \\bar g_{2} \\bar x_{2} \\bar x_{3} + \\Theta \\bar f_{32} \\bar g_{23} \\bar x_{3}^{2} + \\Theta \\bar f_{32} \\bar x_{2} \\bar x_{3} g_{4} + \\Theta \\bar g_{2} \\bar g_{3} \\bar x_{3} + \\Theta \\bar g_{2} \\bar x_{3} g_{4} + \\Theta \\bar g_{3} \\bar x_{3} g_{4} - \\Theta \\bar g_{23} \\bar g_{32} \\bar x_{3} - \\bar f_{23} \\bar f_{31} \\bar g_{1} \\bar x_{1} \\bar x_{3} - \\bar f_{23} \\bar f_{31} \\bar x_{1} \\bar x_{3} g_{4} - \\bar f_{23} \\bar g_{3} \\bar g_{1} \\bar x_{3} - \\bar f_{23} \\bar g_{3} \\bar x_{3} g_{4} - \\bar f_{23} \\bar g_{1} \\bar g_{32} \\bar x_{2} - \\bar f_{23} \\bar g_{1} \\bar x_{3} g_{4} - \\bar f_{23} \\bar g_{32} \\bar x_{2} g_{4} + \\bar f_{31} \\bar g_{2} \\bar g_{1} \\bar x_{1} + \\bar f_{31} \\bar g_{2} \\bar x_{1} g_{4} + \\bar f_{31} \\bar g_{1} \\bar x_{1} g_{4} + \\bar f_{32} \\bar g_{2} \\bar g_{1} \\bar x_{2} + \\bar f_{32} \\bar g_{2} \\bar x_{2} g_{4} + \\bar f_{32} \\bar g_{1} \\bar g_{23} \\bar x_{3} + \\bar f_{32} \\bar g_{1} \\bar x_{2} g_{4} + \\bar f_{32} \\bar g_{23} \\bar x_{3} g_{4} + \\bar g_{2} \\bar g_{3} \\bar g_{1} + \\bar g_{2} \\bar g_{3} g_{4} + \\bar g_{2} \\bar g_{1} g_{4} + \\bar g_{3} \\bar g_{1} g_{4} - \\bar g_{1} \\bar g_{23} \\bar g_{32} - \\bar g_{23} \\bar g_{32} g_{4}$"
      ],
      "text/plain": [
       "-\\Theta*\\bar f_{23}*\\bar g_3*\\bar x_3**2 - \\Theta*\\bar f_{23}*\\bar g_{32}*\\bar x_2*\\bar x_3 - \\Theta*\\bar f_{23}*\\bar x_3**2*g_4 + \\Theta*\\bar f_{32}*\\bar g_2*\\bar x_2*\\bar x_3 + \\Theta*\\bar f_{32}*\\bar g_{23}*\\bar x_3**2 + \\Theta*\\bar f_{32}*\\bar x_2*\\bar x_3*g_4 + \\Theta*\\bar g_2*\\bar g_3*\\bar x_3 + \\Theta*\\bar g_2*\\bar x_3*g_4 + \\Theta*\\bar g_3*\\bar x_3*g_4 - \\Theta*\\bar g_{23}*\\bar g_{32}*\\bar x_3 - \\bar f_{23}*\\bar f_{31}*\\bar g_{1}*\\bar x_1*\\bar x_3 - \\bar f_{23}*\\bar f_{31}*\\bar x_1*\\bar x_3*g_4 - \\bar f_{23}*\\bar g_3*\\bar g_{1}*\\bar x_3 - \\bar f_{23}*\\bar g_3*\\bar x_3*g_4 - \\bar f_{23}*\\bar g_{1}*\\bar g_{32}*\\bar x_2 - \\bar f_{23}*\\bar g_{1}*\\bar x_3*g_4 - \\bar f_{23}*\\bar g_{32}*\\bar x_2*g_4 + \\bar f_{31}*\\bar g_2*\\bar g_{1}*\\bar x_1 + \\bar f_{31}*\\bar g_2*\\bar x_1*g_4 + \\bar f_{31}*\\bar g_{1}*\\bar x_1*g_4 + \\bar f_{32}*\\bar g_2*\\bar g_{1}*\\bar x_2 + \\bar f_{32}*\\bar g_2*\\bar x_2*g_4 + \\bar f_{32}*\\bar g_{1}*\\bar g_{23}*\\bar x_3 + \\bar f_{32}*\\bar g_{1}*\\bar x_2*g_4 + \\bar f_{32}*\\bar g_{23}*\\bar x_3*g_4 + \\bar g_2*\\bar g_3*\\bar g_{1} + \\bar g_2*\\bar g_3*g_4 + \\bar g_2*\\bar g_{1}*g_4 + \\bar g_3*\\bar g_{1}*g_4 - \\bar g_{1}*\\bar g_{23}*\\bar g_{32} - \\bar g_{23}*\\bar g_{32}*g_4"
      ]
     },
     "execution_count": 7,
     "metadata": {},
     "output_type": "execute_result"
    }
   ],
   "source": [
    "det_coeffs[3].subs(f13, theta)"
   ]
  },
  {
   "cell_type": "code",
   "execution_count": null,
   "metadata": {},
   "outputs": [],
   "source": []
  }
 ],
 "metadata": {
  "kernelspec": {
   "display_name": "Python 3 (ipykernel)",
   "language": "python",
   "name": "python3"
  },
  "language_info": {
   "codemirror_mode": {
    "name": "ipython",
    "version": 3
   },
   "file_extension": ".py",
   "mimetype": "text/x-python",
   "name": "python",
   "nbconvert_exporter": "python",
   "pygments_lexer": "ipython3",
   "version": "3.11.7"
  }
 },
 "nbformat": 4,
 "nbformat_minor": 4
}
