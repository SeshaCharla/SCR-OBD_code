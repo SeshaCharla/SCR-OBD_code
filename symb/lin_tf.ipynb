{
 "cells": [
  {
   "cell_type": "code",
   "execution_count": 1,
   "metadata": {},
   "outputs": [],
   "source": [
    "%run -i calcs.py"
   ]
  },
  {
   "cell_type": "code",
   "execution_count": 2,
   "metadata": {},
   "outputs": [
    {
     "data": {
      "text/latex": [
       "$\\displaystyle \\operatorname{Poly}{\\left( s^{3} + \\left(\\bar f_{13} \\bar x_{3} - \\bar f_{23} \\bar x_{3} + \\bar f_{31} \\bar x_{1} + \\bar f_{32} \\bar x_{2} + \\bar g_{2} + \\bar g_{3} + \\bar g_{1}\\right) s^{2} + \\left(- \\bar f_{13} \\bar f_{23} \\bar x_{3}^{2} + \\bar f_{13} \\bar f_{32} \\bar x_{2} \\bar x_{3} + \\bar f_{13} \\bar g_{2} \\bar x_{3} + \\bar f_{13} \\bar g_{3} \\bar x_{3} - \\bar f_{23} \\bar f_{31} \\bar x_{1} \\bar x_{3} - \\bar f_{23} \\bar g_{3} \\bar x_{3} - \\bar f_{23} \\bar g_{1} \\bar x_{3} - \\bar f_{23} \\bar g_{32} \\bar x_{2} + \\bar f_{31} \\bar g_{2} \\bar x_{1} + \\bar f_{31} \\bar g_{1} \\bar x_{1} + \\bar f_{32} \\bar g_{2} \\bar x_{2} + \\bar f_{32} \\bar g_{1} \\bar x_{2} + \\bar f_{32} \\bar g_{23} \\bar x_{3} + \\bar g_{2} \\bar g_{3} + \\bar g_{2} \\bar g_{1} + \\bar g_{3} \\bar g_{1} - \\bar g_{23} \\bar g_{32}\\right) s -  \\bar f_{13} \\bar f_{23} \\bar g_{3} \\bar x_{3}^{2} - \\bar f_{13} \\bar f_{23} \\bar g_{32} \\bar x_{2} \\bar x_{3} + \\bar f_{13} \\bar f_{32} \\bar g_{2} \\bar x_{2} \\bar x_{3} + \\bar f_{13} \\bar f_{32} \\bar g_{23} \\bar x_{3}^{2} + \\bar f_{13} \\bar g_{2} \\bar g_{3} \\bar x_{3} - \\bar f_{13} \\bar g_{23} \\bar g_{32} \\bar x_{3} - \\bar f_{23} \\bar f_{31} \\bar g_{1} \\bar x_{1} \\bar x_{3} - \\bar f_{23} \\bar g_{3} \\bar g_{1} \\bar x_{3} - \\bar f_{23} \\bar g_{1} \\bar g_{32} \\bar x_{2} + \\bar f_{31} \\bar g_{2} \\bar g_{1} \\bar x_{1} + \\bar f_{32} \\bar g_{2} \\bar g_{1} \\bar x_{2} + \\bar f_{32} \\bar g_{1} \\bar g_{23} \\bar x_{3} + \\bar g_{2} \\bar g_{3} \\bar g_{1} - \\bar g_{1} \\bar g_{23} \\bar g_{32}, s, domain=\\mathbb{Z}\\left[\\bar f_{13}, \\bar f_{23}, \\bar f_{31}, \\bar f_{32}, \\bar g_{2}, \\bar g_{3}, \\bar g_{1}, \\bar g_{23}, \\bar g_{32}, \\bar x_{1}, \\bar x_{2}, \\bar x_{3}\\right] \\right)}$"
      ],
      "text/plain": [
       "Poly(s**3 + (\\bar f_{13}*\\bar x_3 - \\bar f_{23}*\\bar x_3 + \\bar f_{31}*\\bar x_1 + \\bar f_{32}*\\bar x_2 + \\bar g_2 + \\bar g_3 + \\bar g_{1})*s**2 + (-\\bar f_{13}*\\bar f_{23}*\\bar x_3**2 + \\bar f_{13}*\\bar f_{32}*\\bar x_2*\\bar x_3 + \\bar f_{13}*\\bar g_2*\\bar x_3 + \\bar f_{13}*\\bar g_3*\\bar x_3 - \\bar f_{23}*\\bar f_{31}*\\bar x_1*\\bar x_3 - \\bar f_{23}*\\bar g_3*\\bar x_3 - \\bar f_{23}*\\bar g_{1}*\\bar x_3 - \\bar f_{23}*\\bar g_{32}*\\bar x_2 + \\bar f_{31}*\\bar g_2*\\bar x_1 + \\bar f_{31}*\\bar g_{1}*\\bar x_1 + \\bar f_{32}*\\bar g_2*\\bar x_2 + \\bar f_{32}*\\bar g_{1}*\\bar x_2 + \\bar f_{32}*\\bar g_{23}*\\bar x_3 + \\bar g_2*\\bar g_3 + \\bar g_2*\\bar g_{1} + \\bar g_3*\\bar g_{1} - \\bar g_{23}*\\bar g_{32})*s - \\bar f_{13}*\\bar f_{23}*\\bar g_3*\\bar x_3**2 - \\bar f_{13}*\\bar f_{23}*\\bar g_{32}*\\bar x_2*\\bar x_3 + \\bar f_{13}*\\bar f_{32}*\\bar g_2*\\bar x_2*\\bar x_3 + \\bar f_{13}*\\bar f_{32}*\\bar g_{23}*\\bar x_3**2 + \\bar f_{13}*\\bar g_2*\\bar g_3*\\bar x_3 - \\bar f_{13}*\\bar g_{23}*\\bar g_{32}*\\bar x_3 - \\bar f_{23}*\\bar f_{31}*\\bar g_{1}*\\bar x_1*\\bar x_3 - \\bar f_{23}*\\bar g_3*\\bar g_{1}*\\bar x_3 - \\bar f_{23}*\\bar g_{1}*\\bar g_{32}*\\bar x_2 + \\bar f_{31}*\\bar g_2*\\bar g_{1}*\\bar x_1 + \\bar f_{32}*\\bar g_2*\\bar g_{1}*\\bar x_2 + \\bar f_{32}*\\bar g_{1}*\\bar g_{23}*\\bar x_3 + \\bar g_2*\\bar g_3*\\bar g_{1} - \\bar g_{1}*\\bar g_{23}*\\bar g_{32}, s, domain='ZZ[\\bar f_{13},\\bar f_{23},\\bar f_{31},\\bar f_{32},\\bar g_2,\\bar g_3,\\bar g_{1},\\bar g_{23},\\bar g_{32},\\bar x_1,\\bar x_2,\\bar x_3]')"
      ]
     },
     "execution_count": 2,
     "metadata": {},
     "output_type": "execute_result"
    }
   ],
   "source": [
    "det_factor.as_poly(s)"
   ]
  }
 ],
 "metadata": {
  "kernelspec": {
   "display_name": "Python 3 (ipykernel)",
   "language": "python",
   "name": "python3"
  },
  "language_info": {
   "codemirror_mode": {
    "name": "ipython",
    "version": 3
   },
   "file_extension": ".py",
   "mimetype": "text/x-python",
   "name": "python",
   "nbconvert_exporter": "python",
   "pygments_lexer": "ipython3",
   "version": "3.11.7"
  }
 },
 "nbformat": 4,
 "nbformat_minor": 4
}
